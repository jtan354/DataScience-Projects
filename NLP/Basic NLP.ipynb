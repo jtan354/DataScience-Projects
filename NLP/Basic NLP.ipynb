{
 "cells": [
  {
   "cell_type": "code",
   "execution_count": 1,
   "metadata": {},
   "outputs": [],
   "source": [
    "import pandas as pd\n",
    "import numpy as np\n",
    "import seaborn as sns\n",
    "import matplotlib.pyplot as plt\n",
    "from sklearn.neighbors import KNeighborsClassifier\n",
    "from sklearn.model_selection import train_test_split\n",
    "from sklearn.metrics import confusion_matrix\n",
    "from sklearn.metrics import classification_report\n",
    "from sklearn.model_selection import cross_val_score\n",
    "from sklearn import metrics"
   ]
  },
  {
   "cell_type": "code",
   "execution_count": 2,
   "metadata": {},
   "outputs": [],
   "source": [
    "df = pd.read_csv(\"train.csv\")"
   ]
  },
  {
   "cell_type": "code",
   "execution_count": 3,
   "metadata": {},
   "outputs": [
    {
     "data": {
      "text/html": [
       "<div>\n",
       "<style scoped>\n",
       "    .dataframe tbody tr th:only-of-type {\n",
       "        vertical-align: middle;\n",
       "    }\n",
       "\n",
       "    .dataframe tbody tr th {\n",
       "        vertical-align: top;\n",
       "    }\n",
       "\n",
       "    .dataframe thead th {\n",
       "        text-align: right;\n",
       "    }\n",
       "</style>\n",
       "<table border=\"1\" class=\"dataframe\">\n",
       "  <thead>\n",
       "    <tr style=\"text-align: right;\">\n",
       "      <th></th>\n",
       "      <th>itemid</th>\n",
       "      <th>title</th>\n",
       "      <th>Category</th>\n",
       "      <th>image_path</th>\n",
       "    </tr>\n",
       "  </thead>\n",
       "  <tbody>\n",
       "    <tr>\n",
       "      <th>0</th>\n",
       "      <td>307504</td>\n",
       "      <td>nyx sex bomb pallete natural palette</td>\n",
       "      <td>0</td>\n",
       "      <td>beauty_image/6b2e9cbb279ac95703348368aa65da09.jpg</td>\n",
       "    </tr>\n",
       "    <tr>\n",
       "      <th>1</th>\n",
       "      <td>461203</td>\n",
       "      <td>etude house precious mineral any cushion pearl...</td>\n",
       "      <td>1</td>\n",
       "      <td>beauty_image/20450222d857c9571ba8fa23bdedc8c9.jpg</td>\n",
       "    </tr>\n",
       "    <tr>\n",
       "      <th>2</th>\n",
       "      <td>3592295</td>\n",
       "      <td>milani rose powder blush</td>\n",
       "      <td>2</td>\n",
       "      <td>beauty_image/6a5962bed605a3dd6604ca3a4278a4f9.jpg</td>\n",
       "    </tr>\n",
       "    <tr>\n",
       "      <th>3</th>\n",
       "      <td>4460167</td>\n",
       "      <td>etude house baby sweet sugar powder</td>\n",
       "      <td>3</td>\n",
       "      <td>beauty_image/56987ae186e8a8e71fcc5a261ca485da.jpg</td>\n",
       "    </tr>\n",
       "    <tr>\n",
       "      <th>4</th>\n",
       "      <td>5853995</td>\n",
       "      <td>bedak revlon color stay aqua mineral make up</td>\n",
       "      <td>3</td>\n",
       "      <td>beauty_image/9c6968066ebab57588c2f757a240d8b9.jpg</td>\n",
       "    </tr>\n",
       "  </tbody>\n",
       "</table>\n",
       "</div>"
      ],
      "text/plain": [
       "    itemid                                              title  Category  \\\n",
       "0   307504               nyx sex bomb pallete natural palette         0   \n",
       "1   461203  etude house precious mineral any cushion pearl...         1   \n",
       "2  3592295                           milani rose powder blush         2   \n",
       "3  4460167                etude house baby sweet sugar powder         3   \n",
       "4  5853995       bedak revlon color stay aqua mineral make up         3   \n",
       "\n",
       "                                          image_path  \n",
       "0  beauty_image/6b2e9cbb279ac95703348368aa65da09.jpg  \n",
       "1  beauty_image/20450222d857c9571ba8fa23bdedc8c9.jpg  \n",
       "2  beauty_image/6a5962bed605a3dd6604ca3a4278a4f9.jpg  \n",
       "3  beauty_image/56987ae186e8a8e71fcc5a261ca485da.jpg  \n",
       "4  beauty_image/9c6968066ebab57588c2f757a240d8b9.jpg  "
      ]
     },
     "execution_count": 3,
     "metadata": {},
     "output_type": "execute_result"
    }
   ],
   "source": [
    "df.head()"
   ]
  },
  {
   "cell_type": "code",
   "execution_count": 4,
   "metadata": {},
   "outputs": [],
   "source": [
    "df = df.drop([\"itemid\",\"image_path\"], axis =1)\n"
   ]
  },
  {
   "cell_type": "code",
   "execution_count": 5,
   "metadata": {},
   "outputs": [
    {
     "data": {
      "text/html": [
       "<div>\n",
       "<style scoped>\n",
       "    .dataframe tbody tr th:only-of-type {\n",
       "        vertical-align: middle;\n",
       "    }\n",
       "\n",
       "    .dataframe tbody tr th {\n",
       "        vertical-align: top;\n",
       "    }\n",
       "\n",
       "    .dataframe thead th {\n",
       "        text-align: right;\n",
       "    }\n",
       "</style>\n",
       "<table border=\"1\" class=\"dataframe\">\n",
       "  <thead>\n",
       "    <tr style=\"text-align: right;\">\n",
       "      <th></th>\n",
       "      <th>title</th>\n",
       "      <th>Category</th>\n",
       "    </tr>\n",
       "  </thead>\n",
       "  <tbody>\n",
       "    <tr>\n",
       "      <th>0</th>\n",
       "      <td>nyx sex bomb pallete natural palette</td>\n",
       "      <td>0</td>\n",
       "    </tr>\n",
       "    <tr>\n",
       "      <th>1</th>\n",
       "      <td>etude house precious mineral any cushion pearl...</td>\n",
       "      <td>1</td>\n",
       "    </tr>\n",
       "    <tr>\n",
       "      <th>2</th>\n",
       "      <td>milani rose powder blush</td>\n",
       "      <td>2</td>\n",
       "    </tr>\n",
       "    <tr>\n",
       "      <th>3</th>\n",
       "      <td>etude house baby sweet sugar powder</td>\n",
       "      <td>3</td>\n",
       "    </tr>\n",
       "    <tr>\n",
       "      <th>4</th>\n",
       "      <td>bedak revlon color stay aqua mineral make up</td>\n",
       "      <td>3</td>\n",
       "    </tr>\n",
       "  </tbody>\n",
       "</table>\n",
       "</div>"
      ],
      "text/plain": [
       "                                               title  Category\n",
       "0               nyx sex bomb pallete natural palette         0\n",
       "1  etude house precious mineral any cushion pearl...         1\n",
       "2                           milani rose powder blush         2\n",
       "3                etude house baby sweet sugar powder         3\n",
       "4       bedak revlon color stay aqua mineral make up         3"
      ]
     },
     "execution_count": 5,
     "metadata": {},
     "output_type": "execute_result"
    }
   ],
   "source": [
    "df.head()"
   ]
  },
  {
   "cell_type": "code",
   "execution_count": 6,
   "metadata": {},
   "outputs": [],
   "source": [
    "X = df[\"title\"]\n",
    "y = df[\"Category\"]\n",
    "X_train, X_test, y_train, y_test = train_test_split(X, y, random_state=0)\n",
    "cat_data = list(y_train)\n",
    "title_data = list(X_train)"
   ]
  },
  {
   "cell_type": "code",
   "execution_count": 7,
   "metadata": {},
   "outputs": [
    {
     "data": {
      "text/plain": [
       "(499961, 68538)"
      ]
     },
     "execution_count": 7,
     "metadata": {},
     "output_type": "execute_result"
    }
   ],
   "source": [
    "from sklearn.feature_extraction.text import CountVectorizer\n",
    "count_vect = CountVectorizer()\n",
    "X_train_counts = count_vect.fit_transform(title_data)\n",
    "X_train_counts.shape"
   ]
  },
  {
   "cell_type": "code",
   "execution_count": 8,
   "metadata": {},
   "outputs": [
    {
     "data": {
      "text/plain": [
       "(499961, 68538)"
      ]
     },
     "execution_count": 8,
     "metadata": {},
     "output_type": "execute_result"
    }
   ],
   "source": [
    "from sklearn.feature_extraction.text import TfidfTransformer\n",
    "tfidf_transformer = TfidfTransformer()\n",
    "X_train_tfidf = tfidf_transformer.fit_transform(X_train_counts)\n",
    "X_train_tfidf.shape"
   ]
  },
  {
   "cell_type": "code",
   "execution_count": 9,
   "metadata": {},
   "outputs": [],
   "source": [
    "from sklearn.naive_bayes import MultinomialNB\n",
    "clf = MultinomialNB().fit(X_train_tfidf, cat_data)"
   ]
  },
  {
   "cell_type": "code",
   "execution_count": 10,
   "metadata": {},
   "outputs": [
    {
     "name": "stdout",
     "output_type": "stream",
     "text": [
      "Misclassified samples: 64854\n",
      "Accuracy: 0.61085\n"
     ]
    },
    {
     "name": "stderr",
     "output_type": "stream",
     "text": [
      "C:\\Users\\TP_baseline\\Anaconda3\\lib\\site-packages\\sklearn\\metrics\\classification.py:1143: UndefinedMetricWarning: Precision and F-score are ill-defined and being set to 0.0 in labels with no predicted samples.\n",
      "  'precision', 'predicted', average, warn_for)\n",
      "C:\\Users\\TP_baseline\\Anaconda3\\lib\\site-packages\\sklearn\\metrics\\classification.py:1143: UndefinedMetricWarning: Precision and F-score are ill-defined and being set to 0.0 in labels with no predicted samples.\n",
      "  'precision', 'predicted', average, warn_for)\n"
     ]
    },
    {
     "name": "stdout",
     "output_type": "stream",
     "text": [
      "              precision    recall  f1-score   support\n",
      "\n",
      "           0       0.70      0.04      0.08       902\n",
      "           1       0.63      0.47      0.54      7241\n",
      "           2       0.85      0.66      0.74      2837\n",
      "           3       0.71      0.88      0.79     20309\n",
      "           4       0.60      0.70      0.65     10754\n",
      "           5       0.65      0.77      0.70     13771\n",
      "           6       0.00      0.00      0.00       517\n",
      "           7       0.66      0.42      0.51      2929\n",
      "           8       0.63      0.29      0.40      1517\n",
      "           9       0.84      0.15      0.26      2060\n",
      "          10       0.86      0.02      0.04       274\n",
      "          11       0.73      0.06      0.11      1025\n",
      "          12       0.71      0.87      0.79      5443\n",
      "          13       0.77      0.23      0.35       739\n",
      "          14       0.00      0.00      0.00       635\n",
      "          15       0.00      0.00      0.00       136\n",
      "          16       0.00      0.00      0.00       550\n",
      "          17       0.00      0.00      0.00       696\n",
      "          18       0.38      0.93      0.54     14312\n",
      "          19       0.62      0.25      0.35      3371\n",
      "          20       0.63      0.13      0.22      4969\n",
      "          21       0.00      0.00      0.00      2607\n",
      "          22       0.71      0.00      0.01      3717\n",
      "          23       1.00      0.01      0.01       423\n",
      "          24       0.00      0.00      0.00      1062\n",
      "          25       0.69      0.68      0.69      8516\n",
      "          26       0.57      0.55      0.56      8483\n",
      "          27       0.91      0.13      0.22      4100\n",
      "          28       0.61      0.04      0.07      1629\n",
      "          29       1.00      0.01      0.02       794\n",
      "          30       0.00      0.00      0.00       367\n",
      "          31       0.80      0.86      0.83      6990\n",
      "          32       0.81      0.90      0.85      7499\n",
      "          33       0.90      0.52      0.65      1225\n",
      "          34       0.82      0.66      0.73      3709\n",
      "          35       0.38      0.61      0.47      7534\n",
      "          36       0.50      0.00      0.01       274\n",
      "          37       0.93      0.12      0.21       539\n",
      "          38       0.89      0.40      0.55      1184\n",
      "          39       1.00      0.01      0.02       167\n",
      "          40       0.00      0.00      0.00        73\n",
      "          41       0.84      0.88      0.86      4769\n",
      "          42       0.86      0.66      0.75      2656\n",
      "          43       0.85      0.36      0.51      1489\n",
      "          44       1.00      0.01      0.02       238\n",
      "          45       0.89      0.22      0.35       505\n",
      "          46       1.00      0.04      0.09       178\n",
      "          47       1.00      0.00      0.01       241\n",
      "          48       1.00      0.01      0.02        92\n",
      "          49       0.00      0.00      0.00       156\n",
      "          50       0.00      0.00      0.00        65\n",
      "          51       0.00      0.00      0.00        95\n",
      "          52       0.00      0.00      0.00        20\n",
      "          53       0.00      0.00      0.00       104\n",
      "          54       0.00      0.00      0.00        64\n",
      "          55       0.00      0.00      0.00        51\n",
      "          56       0.00      0.00      0.00        42\n",
      "          57       0.00      0.00      0.00        10\n",
      "\n",
      "   micro avg       0.61      0.61      0.61    166654\n",
      "   macro avg       0.53      0.25      0.27    166654\n",
      "weighted avg       0.64      0.61      0.57    166654\n",
      "\n"
     ]
    },
    {
     "name": "stderr",
     "output_type": "stream",
     "text": [
      "C:\\Users\\TP_baseline\\Anaconda3\\lib\\site-packages\\sklearn\\metrics\\classification.py:1143: UndefinedMetricWarning: Precision and F-score are ill-defined and being set to 0.0 in labels with no predicted samples.\n",
      "  'precision', 'predicted', average, warn_for)\n"
     ]
    }
   ],
   "source": [
    "X_test_counts = count_vect.transform(list(X_test))\n",
    "X_test_tfidf = tfidf_transformer.transform(X_test_counts)\n",
    "\n",
    "y_pred = clf.predict(X_test_tfidf)\n",
    "count_misclassified = (y_test != y_pred).sum()\n",
    "print('Misclassified samples: {}'.format(count_misclassified))\n",
    "print('Accuracy: {:.5f}'.format(clf.score(X_test_tfidf, y_test)))\n",
    "print(classification_report(y_test, clf.predict(X_test_tfidf)))"
   ]
  },
  {
   "cell_type": "code",
   "execution_count": 11,
   "metadata": {},
   "outputs": [
    {
     "data": {
      "text/plain": [
       "RandomForestClassifier(bootstrap=True, class_weight=None, criterion='gini',\n",
       "            max_depth=None, max_features='auto', max_leaf_nodes=None,\n",
       "            min_impurity_decrease=0.0, min_impurity_split=None,\n",
       "            min_samples_leaf=1, min_samples_split=2,\n",
       "            min_weight_fraction_leaf=0.0, n_estimators=50, n_jobs=None,\n",
       "            oob_score=False, random_state=1, verbose=0, warm_start=False)"
      ]
     },
     "execution_count": 11,
     "metadata": {},
     "output_type": "execute_result"
    }
   ],
   "source": [
    "from sklearn.ensemble import RandomForestClassifier \n",
    "rf = RandomForestClassifier(n_estimators=50, random_state=1)\n",
    "rf.fit(X_train_tfidf,y_train)"
   ]
  },
  {
   "cell_type": "code",
   "execution_count": 13,
   "metadata": {},
   "outputs": [
    {
     "name": "stdout",
     "output_type": "stream",
     "text": [
      "Misclassified samples: 44001\n",
      "Accuracy: 0.73597\n",
      "              precision    recall  f1-score   support\n",
      "\n",
      "           0       0.57      0.41      0.48       902\n",
      "           1       0.76      0.64      0.70      7241\n",
      "           2       0.84      0.87      0.86      2837\n",
      "           3       0.86      0.89      0.88     20309\n",
      "           4       0.69      0.75      0.72     10754\n",
      "           5       0.76      0.78      0.77     13771\n",
      "           6       0.50      0.42      0.45       517\n",
      "           7       0.79      0.73      0.76      2929\n",
      "           8       0.60      0.64      0.62      1517\n",
      "           9       0.70      0.48      0.57      2060\n",
      "          10       0.65      0.60      0.63       274\n",
      "          11       0.64      0.55      0.60      1025\n",
      "          12       0.78      0.91      0.84      5443\n",
      "          13       0.66      0.61      0.63       739\n",
      "          14       0.42      0.20      0.27       635\n",
      "          15       0.44      0.21      0.29       136\n",
      "          16       0.48      0.19      0.27       550\n",
      "          17       0.43      0.18      0.26       696\n",
      "          18       0.57      0.83      0.67     14312\n",
      "          19       0.64      0.57      0.61      3371\n",
      "          20       0.66      0.49      0.56      4969\n",
      "          21       0.61      0.23      0.33      2607\n",
      "          22       0.61      0.32      0.42      3717\n",
      "          23       0.78      0.55      0.64       423\n",
      "          24       0.64      0.18      0.28      1062\n",
      "          25       0.75      0.78      0.77      8516\n",
      "          26       0.65      0.74      0.69      8483\n",
      "          27       0.72      0.54      0.62      4100\n",
      "          28       0.71      0.55      0.62      1629\n",
      "          29       0.67      0.56      0.61       794\n",
      "          30       0.48      0.08      0.14       367\n",
      "          31       0.84      0.89      0.87      6990\n",
      "          32       0.84      0.91      0.87      7499\n",
      "          33       0.83      0.94      0.88      1225\n",
      "          34       0.79      0.83      0.81      3709\n",
      "          35       0.69      0.48      0.57      7534\n",
      "          36       0.79      0.91      0.85       274\n",
      "          37       0.80      0.82      0.81       539\n",
      "          38       0.82      0.92      0.87      1184\n",
      "          39       0.78      0.81      0.80       167\n",
      "          40       0.65      0.44      0.52        73\n",
      "          41       0.85      0.92      0.89      4769\n",
      "          42       0.84      0.91      0.88      2656\n",
      "          43       0.75      0.87      0.81      1489\n",
      "          44       0.87      0.85      0.86       238\n",
      "          45       0.82      0.91      0.86       505\n",
      "          46       0.87      0.93      0.90       178\n",
      "          47       0.80      0.73      0.76       241\n",
      "          48       0.76      0.82      0.79        92\n",
      "          49       0.71      0.27      0.39       156\n",
      "          50       0.80      0.88      0.84        65\n",
      "          51       0.78      0.69      0.73        95\n",
      "          52       0.62      0.40      0.48        20\n",
      "          53       0.72      0.64      0.68       104\n",
      "          54       0.68      0.62      0.65        64\n",
      "          55       0.87      0.53      0.66        51\n",
      "          56       0.69      0.43      0.53        42\n",
      "          57       0.75      0.30      0.43        10\n",
      "\n",
      "   micro avg       0.74      0.74      0.74    166654\n",
      "   macro avg       0.71      0.62      0.65    166654\n",
      "weighted avg       0.73      0.74      0.73    166654\n",
      "\n"
     ]
    }
   ],
   "source": [
    "rf_pred = rf.predict(X_test_tfidf)\n",
    "rf_count_misclassified = (y_test != rf_pred).sum()\n",
    "print('Misclassified samples: {}'.format(rf_count_misclassified))\n",
    "print('Accuracy: {:.5f}'.format(rf.score(X_test_tfidf, y_test)))\n",
    "print(classification_report(y_test, rf.predict(X_test_tfidf)))"
   ]
  },
  {
   "cell_type": "code",
   "execution_count": null,
   "metadata": {},
   "outputs": [],
   "source": []
  }
 ],
 "metadata": {
  "kernelspec": {
   "display_name": "Python 3",
   "language": "python",
   "name": "python3"
  },
  "language_info": {
   "codemirror_mode": {
    "name": "ipython",
    "version": 3
   },
   "file_extension": ".py",
   "mimetype": "text/x-python",
   "name": "python",
   "nbconvert_exporter": "python",
   "pygments_lexer": "ipython3",
   "version": "3.7.1"
  }
 },
 "nbformat": 4,
 "nbformat_minor": 2
}
