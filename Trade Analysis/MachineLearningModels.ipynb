{
 "cells": [
  {
   "cell_type": "code",
   "execution_count": 1,
   "metadata": {},
   "outputs": [
    {
     "name": "stdout",
     "output_type": "stream",
     "text": [
      "132194\n"
     ]
    },
    {
     "data": {
      "text/html": [
       "<div>\n",
       "<style scoped>\n",
       "    .dataframe tbody tr th:only-of-type {\n",
       "        vertical-align: middle;\n",
       "    }\n",
       "\n",
       "    .dataframe tbody tr th {\n",
       "        vertical-align: top;\n",
       "    }\n",
       "\n",
       "    .dataframe thead th {\n",
       "        text-align: right;\n",
       "    }\n",
       "</style>\n",
       "<table border=\"1\" class=\"dataframe\">\n",
       "  <thead>\n",
       "    <tr style=\"text-align: right;\">\n",
       "      <th></th>\n",
       "      <th>bid_price</th>\n",
       "      <th>bid_qty</th>\n",
       "      <th>ask_price</th>\n",
       "      <th>ask_qty</th>\n",
       "      <th>trade_price</th>\n",
       "      <th>sum_trade_1s</th>\n",
       "      <th>bid_advance_time</th>\n",
       "      <th>ask_advance_time</th>\n",
       "      <th>last_trade_time</th>\n",
       "      <th>_1s_side</th>\n",
       "      <th>_3s_side</th>\n",
       "      <th>_5s_side</th>\n",
       "    </tr>\n",
       "    <tr>\n",
       "      <th>timestamp</th>\n",
       "      <th></th>\n",
       "      <th></th>\n",
       "      <th></th>\n",
       "      <th></th>\n",
       "      <th></th>\n",
       "      <th></th>\n",
       "      <th></th>\n",
       "      <th></th>\n",
       "      <th></th>\n",
       "      <th></th>\n",
       "      <th></th>\n",
       "      <th></th>\n",
       "    </tr>\n",
       "  </thead>\n",
       "  <tbody>\n",
       "    <tr>\n",
       "      <th>2018-01-31 23:45:11.445630+00:00</th>\n",
       "      <td>23270.0</td>\n",
       "      <td>110.0</td>\n",
       "      <td>23280.0</td>\n",
       "      <td>68.0</td>\n",
       "      <td>23270.0</td>\n",
       "      <td>106.0</td>\n",
       "      <td>9.491206</td>\n",
       "      <td>7.492440</td>\n",
       "      <td>0.000078</td>\n",
       "      <td>1</td>\n",
       "      <td>1</td>\n",
       "      <td>1</td>\n",
       "    </tr>\n",
       "    <tr>\n",
       "      <th>2018-01-31 23:45:11.446141+00:00</th>\n",
       "      <td>23270.0</td>\n",
       "      <td>10.0</td>\n",
       "      <td>23280.0</td>\n",
       "      <td>68.0</td>\n",
       "      <td>23270.0</td>\n",
       "      <td>107.0</td>\n",
       "      <td>9.491717</td>\n",
       "      <td>7.492951</td>\n",
       "      <td>0.000458</td>\n",
       "      <td>1</td>\n",
       "      <td>1</td>\n",
       "      <td>1</td>\n",
       "    </tr>\n",
       "    <tr>\n",
       "      <th>2018-01-31 23:45:11.446206+00:00</th>\n",
       "      <td>23270.0</td>\n",
       "      <td>8.0</td>\n",
       "      <td>23280.0</td>\n",
       "      <td>68.0</td>\n",
       "      <td>23270.0</td>\n",
       "      <td>107.0</td>\n",
       "      <td>9.491782</td>\n",
       "      <td>7.493016</td>\n",
       "      <td>0.000523</td>\n",
       "      <td>1</td>\n",
       "      <td>1</td>\n",
       "      <td>1</td>\n",
       "    </tr>\n",
       "    <tr>\n",
       "      <th>2018-01-31 23:45:11.446253+00:00</th>\n",
       "      <td>23270.0</td>\n",
       "      <td>3.0</td>\n",
       "      <td>23280.0</td>\n",
       "      <td>70.0</td>\n",
       "      <td>23270.0</td>\n",
       "      <td>107.0</td>\n",
       "      <td>9.491829</td>\n",
       "      <td>7.493063</td>\n",
       "      <td>0.000570</td>\n",
       "      <td>1</td>\n",
       "      <td>1</td>\n",
       "      <td>1</td>\n",
       "    </tr>\n",
       "    <tr>\n",
       "      <th>2018-01-31 23:45:11.446279+00:00</th>\n",
       "      <td>23270.0</td>\n",
       "      <td>1.0</td>\n",
       "      <td>23280.0</td>\n",
       "      <td>70.0</td>\n",
       "      <td>23270.0</td>\n",
       "      <td>107.0</td>\n",
       "      <td>9.491855</td>\n",
       "      <td>7.493089</td>\n",
       "      <td>0.000596</td>\n",
       "      <td>0</td>\n",
       "      <td>0</td>\n",
       "      <td>0</td>\n",
       "    </tr>\n",
       "  </tbody>\n",
       "</table>\n",
       "</div>"
      ],
      "text/plain": [
       "                                  bid_price  bid_qty  ask_price  ask_qty  \\\n",
       "timestamp                                                                  \n",
       "2018-01-31 23:45:11.445630+00:00    23270.0    110.0    23280.0     68.0   \n",
       "2018-01-31 23:45:11.446141+00:00    23270.0     10.0    23280.0     68.0   \n",
       "2018-01-31 23:45:11.446206+00:00    23270.0      8.0    23280.0     68.0   \n",
       "2018-01-31 23:45:11.446253+00:00    23270.0      3.0    23280.0     70.0   \n",
       "2018-01-31 23:45:11.446279+00:00    23270.0      1.0    23280.0     70.0   \n",
       "\n",
       "                                  trade_price  sum_trade_1s  bid_advance_time  \\\n",
       "timestamp                                                                       \n",
       "2018-01-31 23:45:11.445630+00:00      23270.0         106.0          9.491206   \n",
       "2018-01-31 23:45:11.446141+00:00      23270.0         107.0          9.491717   \n",
       "2018-01-31 23:45:11.446206+00:00      23270.0         107.0          9.491782   \n",
       "2018-01-31 23:45:11.446253+00:00      23270.0         107.0          9.491829   \n",
       "2018-01-31 23:45:11.446279+00:00      23270.0         107.0          9.491855   \n",
       "\n",
       "                                  ask_advance_time  last_trade_time  _1s_side  \\\n",
       "timestamp                                                                       \n",
       "2018-01-31 23:45:11.445630+00:00          7.492440         0.000078         1   \n",
       "2018-01-31 23:45:11.446141+00:00          7.492951         0.000458         1   \n",
       "2018-01-31 23:45:11.446206+00:00          7.493016         0.000523         1   \n",
       "2018-01-31 23:45:11.446253+00:00          7.493063         0.000570         1   \n",
       "2018-01-31 23:45:11.446279+00:00          7.493089         0.000596         0   \n",
       "\n",
       "                                  _3s_side  _5s_side  \n",
       "timestamp                                             \n",
       "2018-01-31 23:45:11.445630+00:00         1         1  \n",
       "2018-01-31 23:45:11.446141+00:00         1         1  \n",
       "2018-01-31 23:45:11.446206+00:00         1         1  \n",
       "2018-01-31 23:45:11.446253+00:00         1         1  \n",
       "2018-01-31 23:45:11.446279+00:00         0         0  "
      ]
     },
     "execution_count": 1,
     "metadata": {},
     "output_type": "execute_result"
    }
   ],
   "source": [
    "import pandas as pd\n",
    "import numpy as np\n",
    "from sklearn.svm import SVC\n",
    "from sklearn.model_selection import train_test_split\n",
    "\n",
    "\n",
    "df = pd.read_csv('trading_data.csv', index_col='timestamp')\n",
    "total_rows = len(df)\n",
    "print(total_rows)\n",
    "df.head()"
   ]
  },
  {
   "cell_type": "code",
   "execution_count": 2,
   "metadata": {},
   "outputs": [
    {
     "data": {
      "text/plain": [
       "bid_price               0\n",
       "bid_qty                 0\n",
       "ask_price               0\n",
       "ask_qty                 0\n",
       "trade_price             0\n",
       "sum_trade_1s        65975\n",
       "bid_advance_time        0\n",
       "ask_advance_time        0\n",
       "last_trade_time      9591\n",
       "_1s_side                0\n",
       "_3s_side                0\n",
       "_5s_side                0\n",
       "dtype: int64"
      ]
     },
     "execution_count": 2,
     "metadata": {},
     "output_type": "execute_result"
    }
   ],
   "source": [
    "df.isnull().sum(axis=0)"
   ]
  },
  {
   "cell_type": "code",
   "execution_count": null,
   "metadata": {},
   "outputs": [
    {
     "name": "stderr",
     "output_type": "stream",
     "text": [
      "C:\\Users\\TP_baseline\\Anaconda3\\lib\\site-packages\\numpy\\lib\\histograms.py:754: RuntimeWarning: invalid value encountered in greater_equal\n",
      "  keep = (tmp_a >= first_edge)\n",
      "C:\\Users\\TP_baseline\\Anaconda3\\lib\\site-packages\\numpy\\lib\\histograms.py:755: RuntimeWarning: invalid value encountered in less_equal\n",
      "  keep &= (tmp_a <= last_edge)\n"
     ]
    },
    {
     "data": {
      "text/plain": [
       "<seaborn.axisgrid.PairGrid at 0x23b942bc358>"
      ]
     },
     "execution_count": 44,
     "metadata": {},
     "output_type": "execute_result"
    }
   ],
   "source": [
    "import seaborn as sns\n",
    "sns.pairplot(df)"
   ]
  },
  {
   "cell_type": "code",
   "execution_count": 10,
   "metadata": {},
   "outputs": [],
   "source": [
    "# set different Ys for prediction, drop ask and trade due to correlation\n",
    "df_1s = df.drop(['_3s_side','_5s_side','ask_price','trade_price'], axis = 1)\n",
    "df_1s_x = df_1s.drop([\"_1s_side\"], axis = 1)"
   ]
  },
  {
   "cell_type": "code",
   "execution_count": 14,
   "metadata": {},
   "outputs": [],
   "source": [
    "from sklearn.preprocessing import StandardScaler\n",
    "scaler = StandardScaler()\n",
    "scaled_data = scaler.fit_transform(df_1s_x)\n",
    "scaled_1s = pd.DataFrame(scaled_data, index=df_1s_x.index, columns=df_1s_x.columns)\n",
    "scaled_1s['_1s_side'] = df_1s['_1s_side']"
   ]
  },
  {
   "cell_type": "code",
   "execution_count": 16,
   "metadata": {
    "scrolled": true
   },
   "outputs": [
    {
     "name": "stderr",
     "output_type": "stream",
     "text": [
      "C:\\Users\\TP_baseline\\Anaconda3\\lib\\site-packages\\sklearn\\utils\\deprecation.py:58: DeprecationWarning: Class Imputer is deprecated; Imputer was deprecated in version 0.20 and will be removed in 0.22. Import impute.SimpleImputer from sklearn instead.\n",
      "  warnings.warn(msg, category=DeprecationWarning)\n"
     ]
    }
   ],
   "source": [
    "from sklearn.model_selection import train_test_split\n",
    "from sklearn.preprocessing import Imputer\n",
    "\n",
    "#imput missing values in sum_trade_1s and last_trade_time\n",
    "\n",
    "fill_NaN = Imputer(missing_values=np.nan, strategy='mean', axis=1)\n",
    "imputed_df_1s = pd.DataFrame(fill_NaN.fit_transform(scaled_1s))\n",
    "imputed_df_1s.columns = scaled_1s.columns\n",
    "imputed_df_1s.index = scaled_1s.index\n",
    "\n",
    "X = imputed_df_1s.drop(['_1s_side'], axis =1)\n",
    "y = imputed_df_1s['_1s_side']\n",
    "\n",
    "X_train, X_test, y_train, y_test = train_test_split(X, y, test_size=0.3, random_state=0, shuffle = False)"
   ]
  },
  {
   "cell_type": "code",
   "execution_count": 17,
   "metadata": {},
   "outputs": [],
   "source": [
    "from imblearn.over_sampling import SMOTENC\n",
    "sm = SMOTENC(random_state=42, categorical_features=[6])\n",
    "X_resampled, y_resampled = sm.fit_sample(X_train, y_train)"
   ]
  },
  {
   "cell_type": "code",
   "execution_count": 18,
   "metadata": {},
   "outputs": [
    {
     "name": "stdout",
     "output_type": "stream",
     "text": [
      "Before OverSampling, counts of label '0': 71341\n",
      "Before OverSampling, counts of label '1': 10085\n",
      "Before OverSampling, counts of label '2': 11109\n",
      "After OverSampling, counts of label '0': 71341\n",
      "After OverSampling, counts of label '1': 71341\n",
      "After OverSampling, counts of label '2': 71341\n"
     ]
    }
   ],
   "source": [
    "print(\"Before OverSampling, counts of label '0': {}\".format(sum(pd.DataFrame(y_train)['_1s_side']==0)))\n",
    "print(\"Before OverSampling, counts of label '1': {}\".format(sum(pd.DataFrame(y_train)['_1s_side']==1)))\n",
    "print(\"Before OverSampling, counts of label '2': {}\".format(sum(pd.DataFrame(y_train)['_1s_side']==2)))\n",
    "print(\"After OverSampling, counts of label '0': {}\".format(sum(pd.DataFrame(y_resampled)[0]==0)))\n",
    "print(\"After OverSampling, counts of label '1': {}\".format(sum(pd.DataFrame(y_resampled)[0]==1)))\n",
    "print(\"After OverSampling, counts of label '2': {}\".format(sum(pd.DataFrame(y_resampled)[0]==2)))\n"
   ]
  },
  {
   "cell_type": "code",
   "execution_count": 19,
   "metadata": {},
   "outputs": [
    {
     "name": "stdout",
     "output_type": "stream",
     "text": [
      "Misclassified samples: 15508\n",
      "Accuracy: 0.60897\n",
      "              precision    recall  f1-score   support\n",
      "\n",
      "         0.0       0.93      0.55      0.69     30870\n",
      "         1.0       0.35      0.82      0.49      4324\n",
      "         2.0       0.33      0.82      0.47      4465\n",
      "\n",
      "   micro avg       0.61      0.61      0.61     39659\n",
      "   macro avg       0.54      0.73      0.55     39659\n",
      "weighted avg       0.80      0.61      0.64     39659\n",
      "\n"
     ]
    }
   ],
   "source": [
    "from sklearn.neighbors import KNeighborsClassifier\n",
    "from sklearn.model_selection import train_test_split\n",
    "from sklearn.metrics import classification_report\n",
    "from sklearn import metrics\n",
    "\n",
    "knn = KNeighborsClassifier(n_neighbors = 461) #square root of n\n",
    "knn.fit(X_resampled, y_resampled)\n",
    "\n",
    "# Accuracy of k-NN model\n",
    "y_pred = knn.predict(X_test)\n",
    "count_misclassified = (y_test != y_pred).sum()\n",
    "print('Misclassified samples: {}'.format(count_misclassified))\n",
    "print('Accuracy: {:.5f}'.format(knn.score(X_test, y_test)))\n",
    "\n",
    "print(classification_report(y_test, knn.predict(X_test)))"
   ]
  },
  {
   "cell_type": "code",
   "execution_count": 20,
   "metadata": {},
   "outputs": [],
   "source": [
    "# Import the model we are using\n",
    "from sklearn.ensemble import RandomForestClassifier\n",
    "# Instantiate model with 10 decision trees\n",
    "rf = RandomForestClassifier(n_estimators = 1000, random_state = 42)\n",
    "# Train the model on training data\n",
    "rf.fit(X_resampled, y_resampled);\n"
   ]
  },
  {
   "cell_type": "code",
   "execution_count": 28,
   "metadata": {},
   "outputs": [
    {
     "name": "stdout",
     "output_type": "stream",
     "text": [
      "Misclassified samples: 8321\n",
      "Accuracy: 0.79019\n",
      "              precision    recall  f1-score   support\n",
      "\n",
      "         0.0       0.88      0.85      0.87     30870\n",
      "         1.0       0.52      0.51      0.52      4324\n",
      "         2.0       0.51      0.64      0.56      4465\n",
      "\n",
      "   micro avg       0.79      0.79      0.79     39659\n",
      "   macro avg       0.64      0.67      0.65     39659\n",
      "weighted avg       0.80      0.79      0.79     39659\n",
      "\n"
     ]
    }
   ],
   "source": [
    "\n",
    "# Use the forest's predict method on the test data\n",
    "rf_pred = rf.predict(X_test)\n",
    "count_misclassified = (y_test != rf_pred).sum()\n",
    "print('Misclassified samples: {}'.format(count_misclassified))\n",
    "print('Accuracy: {:.5f}'.format(rf.score(X_test, y_test)))\n",
    "print(classification_report(y_test, rf.predict(X_test)))"
   ]
  },
  {
   "cell_type": "code",
   "execution_count": 22,
   "metadata": {},
   "outputs": [
    {
     "name": "stdout",
     "output_type": "stream",
     "text": [
      "Misclassified samples: 13871\n",
      "Accuracy: 0.65024\n",
      "              precision    recall  f1-score   support\n",
      "\n",
      "         0.0       0.95      0.59      0.73     30870\n",
      "         1.0       0.38      0.86      0.52      4324\n",
      "         2.0       0.36      0.84      0.50      4465\n",
      "\n",
      "   micro avg       0.65      0.65      0.65     39659\n",
      "   macro avg       0.56      0.76      0.59     39659\n",
      "weighted avg       0.82      0.65      0.68     39659\n",
      "\n"
     ]
    }
   ],
   "source": [
    "from sklearn.tree import DecisionTreeClassifier \n",
    "dtree_model = DecisionTreeClassifier(max_depth = 6).fit(X_resampled, y_resampled) \n",
    "dtree_predictions = dtree_model.predict(X_test)\n",
    "d_tree_count_misclassified = (y_test != dtree_predictions).sum()\n",
    "print('Misclassified samples: {}'.format(d_tree_count_misclassified))\n",
    "print('Accuracy: {:.5f}'.format(dtree_model.score(X_test, y_test)))\n",
    "print(classification_report(y_test, dtree_model.predict(X_test)))"
   ]
  },
  {
   "cell_type": "code",
   "execution_count": 26,
   "metadata": {},
   "outputs": [],
   "source": [
    "# training a linear SVM classifier \n",
    "from sklearn.svm import SVC \n",
    "svm_model_linear = SVC(kernel = 'rbf', C = 10, gamma = 1.0).fit(X_resampled, y_resampled) "
   ]
  },
  {
   "cell_type": "code",
   "execution_count": 27,
   "metadata": {},
   "outputs": [
    {
     "name": "stdout",
     "output_type": "stream",
     "text": [
      "Misclassified samples: 10531\n",
      "Accuracy: 0.73446\n",
      "              precision    recall  f1-score   support\n",
      "\n",
      "         0.0       0.89      0.76      0.82     30870\n",
      "         1.0       0.45      0.69      0.55      4324\n",
      "         2.0       0.40      0.62      0.49      4465\n",
      "\n",
      "   micro avg       0.73      0.73      0.73     39659\n",
      "   macro avg       0.58      0.69      0.62     39659\n",
      "weighted avg       0.79      0.73      0.75     39659\n",
      "\n"
     ]
    }
   ],
   "source": [
    "svm_predictions = svm_model_linear.predict(X_test)\n",
    "svm_count_misclassified = (y_test != svm_predictions).sum()\n",
    "print('Misclassified samples: {}'.format(svm_count_misclassified))\n",
    "print('Accuracy: {:.5f}'.format(svm_model_linear.score(X_test, y_test)))\n",
    "print(classification_report(y_test, svm_model_linear.predict(X_test)))"
   ]
  },
  {
   "cell_type": "code",
   "execution_count": 35,
   "metadata": {},
   "outputs": [],
   "source": [
    "from sklearn. ensemble import BaggingClassifier, AdaBoostClassifier, VotingClassifier\n",
    "adb = AdaBoostClassifier(DecisionTreeClassifier(),n_estimators = 20, learning_rate = 1)\n",
    "adb_model= adb.fit(X_resampled,y_resampled)"
   ]
  },
  {
   "cell_type": "code",
   "execution_count": 37,
   "metadata": {},
   "outputs": [
    {
     "name": "stdout",
     "output_type": "stream",
     "text": [
      "Misclassified samples: 11679\n",
      "Accuracy: 0.70551\n",
      "              precision    recall  f1-score   support\n",
      "\n",
      "         0.0       0.86      0.77      0.81     30870\n",
      "         1.0       0.35      0.43      0.39      4324\n",
      "         2.0       0.36      0.54      0.43      4465\n",
      "\n",
      "   micro avg       0.71      0.71      0.71     39659\n",
      "   macro avg       0.52      0.58      0.54     39659\n",
      "weighted avg       0.75      0.71      0.72     39659\n",
      "\n"
     ]
    }
   ],
   "source": [
    "adb_pred = adb_model.predict(X_test)\n",
    "adb_count_misclassified = (y_test != adb_pred).sum()\n",
    "print('Misclassified samples: {}'.format(adb_count_misclassified))\n",
    "print('Accuracy: {:.5f}'.format(adb_model.score(X_test, y_test)))\n",
    "print(classification_report(y_test, adb_model.predict(X_test)))"
   ]
  },
  {
   "cell_type": "code",
   "execution_count": 41,
   "metadata": {},
   "outputs": [],
   "source": [
    "from sklearn.linear_model import LogisticRegression\n",
    "lr = LogisticRegression()\n",
    "dt = DecisionTreeClassifier()\n",
    "svm = SVC(kernel = 'rbf', C = 10, gamma = 1.0 )\n",
    "evc = VotingClassifier( estimators= [('lr',lr),('dt',dt),('svm',svm)], voting = 'hard')"
   ]
  },
  {
   "cell_type": "code",
   "execution_count": 42,
   "metadata": {},
   "outputs": [
    {
     "name": "stderr",
     "output_type": "stream",
     "text": [
      "C:\\Users\\TP_baseline\\Anaconda3\\lib\\site-packages\\sklearn\\linear_model\\logistic.py:433: FutureWarning: Default solver will be changed to 'lbfgs' in 0.22. Specify a solver to silence this warning.\n",
      "  FutureWarning)\n",
      "C:\\Users\\TP_baseline\\Anaconda3\\lib\\site-packages\\sklearn\\linear_model\\logistic.py:460: FutureWarning: Default multi_class will be changed to 'auto' in 0.22. Specify the multi_class option to silence this warning.\n",
      "  \"this warning.\", FutureWarning)\n"
     ]
    },
    {
     "data": {
      "text/plain": [
       "VotingClassifier(estimators=[('lr', LogisticRegression(C=1.0, class_weight=None, dual=False, fit_intercept=True,\n",
       "          intercept_scaling=1, max_iter=100, multi_class='warn',\n",
       "          n_jobs=None, penalty='l2', random_state=None, solver='warn',\n",
       "          tol=0.0001, verbose=0, warm_start=False)), ('dt', Decision...,\n",
       "  max_iter=-1, probability=False, random_state=None, shrinking=True,\n",
       "  tol=0.001, verbose=False))],\n",
       "         flatten_transform=None, n_jobs=None, voting='hard', weights=None)"
      ]
     },
     "execution_count": 42,
     "metadata": {},
     "output_type": "execute_result"
    }
   ],
   "source": [
    "evc.fit(X_resampled,y_resampled)"
   ]
  },
  {
   "cell_type": "code",
   "execution_count": 43,
   "metadata": {},
   "outputs": [
    {
     "data": {
      "text/plain": [
       "0.7284349075871808"
      ]
     },
     "execution_count": 43,
     "metadata": {},
     "output_type": "execute_result"
    }
   ],
   "source": [
    "evc.score(X_test, y_test)"
   ]
  },
  {
   "cell_type": "code",
   "execution_count": null,
   "metadata": {},
   "outputs": [],
   "source": []
  }
 ],
 "metadata": {
  "kernelspec": {
   "display_name": "Python 3",
   "language": "python",
   "name": "python3"
  },
  "language_info": {
   "codemirror_mode": {
    "name": "ipython",
    "version": 3
   },
   "file_extension": ".py",
   "mimetype": "text/x-python",
   "name": "python",
   "nbconvert_exporter": "python",
   "pygments_lexer": "ipython3",
   "version": "3.7.1"
  }
 },
 "nbformat": 4,
 "nbformat_minor": 2
}
